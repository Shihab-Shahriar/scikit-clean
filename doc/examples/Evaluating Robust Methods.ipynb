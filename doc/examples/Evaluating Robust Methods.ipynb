{
 "cells": [
  {
   "cell_type": "markdown",
   "metadata": {},
   "source": [
    "## Evaluating Robust Models\n",
    "\n",
    "The goal of this notebook is to show how to compare several methods across several datasets.This will also serve as inroduction to two important `scikit-clean` functions: `load_data` and `compare`. \n",
    "\n",
    "We'll (roughly) implement the core idea of 3 existing papers on robust classification in the presence of label noise, and see how they compare on our 4 datasets readily available in `scikit-clean`. Those papers are:\n",
    "\n",
    "1. Forest-type Regression with General Losses and Robust Forest - ICML'17 (`RobustForest`  below in `MODELS` dictionary)\n",
    "2. An Ensemble Generation Method Based on Instance Hardness- IJCNN'18 (`EGIH`)\n",
    "3. Classification with label noise- a Markov chain sampling framework - ECML-PKDD'18 (`MCS`)"
   ]
  },
  {
   "cell_type": "code",
   "execution_count": 1,
   "metadata": {},
   "outputs": [],
   "source": [
    "import os\n",
    "\n",
    "import numpy as np\n",
    "import pandas as pd\n",
    "from sklearn.tree import DecisionTreeClassifier\n",
    "from sklearn.neighbors import KNeighborsClassifier\n",
    "from sklearn.linear_model import LogisticRegression\n",
    "from sklearn.svm import SVC\n",
    "from sklearn.neural_network import MLPClassifier\n",
    "from sklearn.model_selection import StratifiedKFold\n",
    "from sklearn.metrics import accuracy_score, make_scorer\n",
    "\n",
    "from skclean.detectors import KDN, InstanceHardness, MCS\n",
    "from skclean.handlers import WeightedBagging, SampleWeight, Filter\n",
    "from skclean.models import RobustForest\n",
    "from skclean.pipeline import Pipeline, make_pipeline\n",
    "from skclean.utils import load_data, compare\n",
    "\n",
    "import seaborn as sns"
   ]
  },
  {
   "cell_type": "markdown",
   "metadata": {},
   "source": [
    "We'll use 4 datasets here, all come preloaded with `scikit-clean`. If you want to load new datasets through this function, put the csv-formatted dataset file in `datasets` folder (use `os.path.dirname(skclean.datasets.__file__)` to get it's location). Make sure labels are at the last column, and features are all real numbers. Check source code of `load_data` for more details."
   ]
  },
  {
   "cell_type": "code",
   "execution_count": 2,
   "metadata": {},
   "outputs": [],
   "source": [
    "DATASETS = ['iris', 'breast_cancer', 'optdigits', 'spambase']\n",
    "SEED = 42   # For reproducibility\n",
    "N_JOBS = 8  # No of cpu cores to use in parallel\n",
    "CV = StratifiedKFold(n_splits=5, shuffle=True, random_state=SEED+1) \n",
    "SCORING = 'accuracy'"
   ]
  },
  {
   "cell_type": "code",
   "execution_count": 3,
   "metadata": {},
   "outputs": [],
   "source": [
    "MODELS = {\n",
    "    'RobustForest': RobustForest(n_estimators=100),\n",
    "    'EGIH':make_pipeline(KDN(), WeightedBagging()),\n",
    "    'MCS': make_pipeline(MCS(), SampleWeight(LogisticRegression()))\n",
    "}"
   ]
  },
  {
   "cell_type": "markdown",
   "metadata": {},
   "source": [
    "We'll create 30% uniform label noise for all our datasets using `UniformNoise`. Note that we're treating noise simulation as data transformation step and attaching it before our models in a pipeline. In this way, noise will only impact training set, and testing will be performed on clean labels."
   ]
  },
  {
   "cell_type": "code",
   "execution_count": 4,
   "metadata": {},
   "outputs": [],
   "source": [
    "from skclean.simulate_noise import UniformNoise\n",
    "\n",
    "N_MODELS = {}\n",
    "for name, clf in MODELS.items():\n",
    "    N_MODELS[name] = make_pipeline(UniformNoise(.3), clf)"
   ]
  },
  {
   "cell_type": "markdown",
   "metadata": {},
   "source": [
    "`scikit-clean` models are compatible with `scikit-learn` API. So for evaluation, we'll use `cross_val_score` function of scikit-learn- this will create multiple train/test according to the `CV` variable we defined at the beginning, and compute performance. It also allows easily parallelizing the code using `n_jobs`."
   ]
  },
  {
   "cell_type": "code",
   "execution_count": 5,
   "metadata": {},
   "outputs": [
    {
     "name": "stdout",
     "output_type": "stream",
     "text": [
      "iris, (150, 4), 3, 1.000\n",
      "\n",
      "iris, RobustForest: 0.8067 in 0.94 secs\n",
      "iris, EGIH: 0.9133 in 0.73 secs\n",
      "iris, MCS: 0.7067 in 0.11 secs\n",
      "\n",
      "breast_cancer, (569, 30), 2, 0.594\n",
      "\n",
      "breast_cancer, RobustForest: 0.8664 in 0.22 secs\n",
      "breast_cancer, EGIH: 0.8981 in 0.82 secs\n",
      "breast_cancer, MCS: 0.9367 in 0.11 secs\n",
      "\n",
      "optdigits, (5620, 64), 10, 0.969\n",
      "\n",
      "optdigits, RobustForest: 0.9402 in 1.48 secs\n",
      "optdigits, EGIH: 0.9649 in 8.03 secs\n",
      "optdigits, MCS: 0.9584 in 6.36 secs\n",
      "\n",
      "spambase, (4601, 57), 2, 0.650\n",
      "\n",
      "spambase, RobustForest: 0.7857 in 1.12 secs\n",
      "spambase, EGIH: 0.8581 in 7.18 secs\n",
      "spambase, MCS: 0.8303 in 0.45 secs\n",
      "\n"
     ]
    }
   ],
   "source": [
    "from time import perf_counter  # Wall time\n",
    "from sklearn.model_selection import cross_val_score\n",
    "\n",
    "for data_name in DATASETS:\n",
    "    X,y = load_data(data_name, stats=True) \n",
    "    \n",
    "    for clf_name, clf in N_MODELS.items():\n",
    "        start_at = perf_counter()\n",
    "        r = cross_val_score(clf, X, y, cv=CV, n_jobs=N_JOBS, scoring=SCORING).mean()\n",
    "        print(f\"{data_name}, {clf_name}: {r:.4f} in {perf_counter()-start_at:.2f} secs\")\n",
    "    print()"
   ]
  },
  {
   "cell_type": "markdown",
   "metadata": {},
   "source": [
    "The `compare` function does basically the same thing the above cell does. Plus, it stores the results in a CSV format, with datasets in rows and algorithms in columns. And it can also automatically resume after interruption."
   ]
  },
  {
   "cell_type": "code",
   "execution_count": 6,
   "metadata": {},
   "outputs": [
    {
     "name": "stdout",
     "output_type": "stream",
     "text": [
      "Wall time: 24.5 s\n"
     ]
    },
    {
     "data": {
      "text/html": [
       "<div>\n",
       "<style scoped>\n",
       "    .dataframe tbody tr th:only-of-type {\n",
       "        vertical-align: middle;\n",
       "    }\n",
       "\n",
       "    .dataframe tbody tr th {\n",
       "        vertical-align: top;\n",
       "    }\n",
       "\n",
       "    .dataframe thead th {\n",
       "        text-align: right;\n",
       "    }\n",
       "</style>\n",
       "<table border=\"1\" class=\"dataframe\">\n",
       "  <thead>\n",
       "    <tr style=\"text-align: right;\">\n",
       "      <th></th>\n",
       "      <th>RobustForest</th>\n",
       "      <th>EGIH</th>\n",
       "      <th>MCS</th>\n",
       "    </tr>\n",
       "  </thead>\n",
       "  <tbody>\n",
       "    <tr>\n",
       "      <th>iris</th>\n",
       "      <td>0.806667</td>\n",
       "      <td>0.866667</td>\n",
       "      <td>0.726667</td>\n",
       "    </tr>\n",
       "    <tr>\n",
       "      <th>breast_cancer</th>\n",
       "      <td>0.84875</td>\n",
       "      <td>0.878808</td>\n",
       "      <td>0.938488</td>\n",
       "    </tr>\n",
       "    <tr>\n",
       "      <th>optdigits</th>\n",
       "      <td>0.941459</td>\n",
       "      <td>0.958541</td>\n",
       "      <td>0.959253</td>\n",
       "    </tr>\n",
       "    <tr>\n",
       "      <th>spambase</th>\n",
       "      <td>0.776793</td>\n",
       "      <td>0.859382</td>\n",
       "      <td>0.817</td>\n",
       "    </tr>\n",
       "  </tbody>\n",
       "</table>\n",
       "</div>"
      ],
      "text/plain": [
       "              RobustForest      EGIH       MCS\n",
       "iris              0.806667  0.866667  0.726667\n",
       "breast_cancer      0.84875  0.878808  0.938488\n",
       "optdigits         0.941459  0.958541  0.959253\n",
       "spambase          0.776793  0.859382     0.817"
      ]
     },
     "execution_count": 6,
     "metadata": {},
     "output_type": "execute_result"
    }
   ],
   "source": [
    "%%time\n",
    "result_path = \"noisy.csv\"\n",
    "\n",
    "dfn = compare(N_MODELS, DATASETS, cv=CV, df_path=result_path, random_state=SEED,\n",
    "             scoring=SCORING,n_jobs=N_JOBS, verbose=False)\n",
    "dfn"
   ]
  },
  {
   "cell_type": "markdown",
   "metadata": {},
   "source": [
    "Let's compare above values with ones computed with clean labels:"
   ]
  },
  {
   "cell_type": "code",
   "execution_count": 7,
   "metadata": {},
   "outputs": [
    {
     "data": {
      "text/html": [
       "<div>\n",
       "<style scoped>\n",
       "    .dataframe tbody tr th:only-of-type {\n",
       "        vertical-align: middle;\n",
       "    }\n",
       "\n",
       "    .dataframe tbody tr th {\n",
       "        vertical-align: top;\n",
       "    }\n",
       "\n",
       "    .dataframe thead th {\n",
       "        text-align: right;\n",
       "    }\n",
       "</style>\n",
       "<table border=\"1\" class=\"dataframe\">\n",
       "  <thead>\n",
       "    <tr style=\"text-align: right;\">\n",
       "      <th></th>\n",
       "      <th>RobustForest</th>\n",
       "      <th>EGIH</th>\n",
       "      <th>MCS</th>\n",
       "    </tr>\n",
       "  </thead>\n",
       "  <tbody>\n",
       "    <tr>\n",
       "      <th>iris</th>\n",
       "      <td>0.953333</td>\n",
       "      <td>0.946667</td>\n",
       "      <td>0.806667</td>\n",
       "    </tr>\n",
       "    <tr>\n",
       "      <th>breast_cancer</th>\n",
       "      <td>0.957833</td>\n",
       "      <td>0.940273</td>\n",
       "      <td>0.950846</td>\n",
       "    </tr>\n",
       "    <tr>\n",
       "      <th>optdigits</th>\n",
       "      <td>0.978648</td>\n",
       "      <td>0.963701</td>\n",
       "      <td>0.965125</td>\n",
       "    </tr>\n",
       "    <tr>\n",
       "      <th>spambase</th>\n",
       "      <td>0.949577</td>\n",
       "      <td>0.938707</td>\n",
       "      <td>0.850471</td>\n",
       "    </tr>\n",
       "  </tbody>\n",
       "</table>\n",
       "</div>"
      ],
      "text/plain": [
       "              RobustForest      EGIH       MCS\n",
       "iris              0.953333  0.946667  0.806667\n",
       "breast_cancer     0.957833  0.940273  0.950846\n",
       "optdigits         0.978648  0.963701  0.965125\n",
       "spambase          0.949577  0.938707  0.850471"
      ]
     },
     "execution_count": 7,
     "metadata": {},
     "output_type": "execute_result"
    }
   ],
   "source": [
    "dfc = compare(MODELS, DATASETS, cv=CV, df_path=None, random_state=SEED,\n",
    "             scoring=SCORING,n_jobs=N_JOBS, verbose=False)\n",
    "dfc"
   ]
  },
  {
   "cell_type": "code",
   "execution_count": 8,
   "metadata": {},
   "outputs": [],
   "source": [
    "dfc = dfc.assign(label='clean')\n",
    "dfn = dfn.assign(label='noisy')\n",
    "df = pd.concat([dfc,dfn]).melt(id_vars='label')\n",
    "df.rename(columns={'variable':'classifier','value':SCORING},inplace=True)"
   ]
  },
  {
   "cell_type": "code",
   "execution_count": 9,
   "metadata": {},
   "outputs": [
    {
     "data": {
      "image/png": "[encoded data removed]",
      "text/plain": [
       "<Figure size 432x288 with 1 Axes>"
      ]
     },
     "metadata": {
      "needs_background": "light"
     },
     "output_type": "display_data"
    }
   ],
   "source": [
    "sns.boxplot(data=df,hue='label',x='classifier',y=SCORING,width=.4);"
   ]
  },
  {
   "cell_type": "code",
   "execution_count": 10,
   "metadata": {},
   "outputs": [],
   "source": [
    "os.remove(result_path)"
   ]
  },
  {
   "cell_type": "markdown",
   "metadata": {},
   "source": [
    "Note: This is a simple example, not a replication study, and shouldn't be taken as such."
   ]
  }
 ],
 "metadata": {
  "kernelspec": {
   "display_name": "Python 3",
   "language": "python",
   "name": "python3"
  },
  "language_info": {
   "codemirror_mode": {
    "name": "ipython",
    "version": 3
   },
   "file_extension": ".py",
   "mimetype": "text/x-python",
   "name": "python",
   "nbconvert_exporter": "python",
   "pygments_lexer": "ipython3",
   "version": "3.8.5"
  }
 },
 "nbformat": 4,
 "nbformat_minor": 4
}
